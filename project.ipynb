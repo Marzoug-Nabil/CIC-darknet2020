{
 "cells": [
  {
   "cell_type": "code",
   "execution_count": 81,
   "id": "f169fe29-b519-4b78-9b96-6bb61bd56021",
   "metadata": {},
   "outputs": [],
   "source": [
    "# import relevant libraries\n",
    "import numpy as np\n",
    "import pandas as pd\n",
    "import matplotlib.pyplot as plt\n",
    "import seaborn as sns\n",
    "%matplotlib inline\n",
    "import socket\n",
    "import struct\n",
    "from sklearn import preprocessing\n",
    "from sklearn.model_selection import train_test_split"
   ]
  },
  {
   "cell_type": "code",
   "execution_count": 82,
   "id": "b2a9a189-0c9a-443e-bd05-67478efb5323",
   "metadata": {},
   "outputs": [],
   "source": [
    "import warnings\n",
    "warnings.filterwarnings('ignore')"
   ]
  },
  {
   "cell_type": "code",
   "execution_count": 83,
   "id": "123b0139-434b-442c-8d93-c41879dc4296",
   "metadata": {},
   "outputs": [],
   "source": [
    "data = pd.read_csv('Darknet.csv')"
   ]
  },
  {
   "cell_type": "code",
   "execution_count": 84,
   "id": "619d23f4-8d04-4f83-b1bf-a7003bb5f574",
   "metadata": {},
   "outputs": [
    {
     "data": {
      "text/html": [
       "<div>\n",
       "<style scoped>\n",
       "    .dataframe tbody tr th:only-of-type {\n",
       "        vertical-align: middle;\n",
       "    }\n",
       "\n",
       "    .dataframe tbody tr th {\n",
       "        vertical-align: top;\n",
       "    }\n",
       "\n",
       "    .dataframe thead th {\n",
       "        text-align: right;\n",
       "    }\n",
       "</style>\n",
       "<table border=\"1\" class=\"dataframe\">\n",
       "  <thead>\n",
       "    <tr style=\"text-align: right;\">\n",
       "      <th></th>\n",
       "      <th>Flow ID</th>\n",
       "      <th>Src IP</th>\n",
       "      <th>Src Port</th>\n",
       "      <th>Dst IP</th>\n",
       "      <th>Dst Port</th>\n",
       "      <th>Protocol</th>\n",
       "      <th>Timestamp</th>\n",
       "      <th>Flow Duration</th>\n",
       "      <th>Total Fwd Packet</th>\n",
       "      <th>Total Bwd packets</th>\n",
       "      <th>...</th>\n",
       "      <th>Active Mean</th>\n",
       "      <th>Active Std</th>\n",
       "      <th>Active Max</th>\n",
       "      <th>Active Min</th>\n",
       "      <th>Idle Mean</th>\n",
       "      <th>Idle Std</th>\n",
       "      <th>Idle Max</th>\n",
       "      <th>Idle Min</th>\n",
       "      <th>Label</th>\n",
       "      <th>Label.1</th>\n",
       "    </tr>\n",
       "  </thead>\n",
       "  <tbody>\n",
       "    <tr>\n",
       "      <th>0</th>\n",
       "      <td>10.152.152.11-216.58.220.99-57158-443-6</td>\n",
       "      <td>10.152.152.11</td>\n",
       "      <td>57158</td>\n",
       "      <td>216.58.220.99</td>\n",
       "      <td>443</td>\n",
       "      <td>6</td>\n",
       "      <td>24/07/2015 04:09:48 PM</td>\n",
       "      <td>229</td>\n",
       "      <td>1</td>\n",
       "      <td>1</td>\n",
       "      <td>...</td>\n",
       "      <td>0</td>\n",
       "      <td>0</td>\n",
       "      <td>0</td>\n",
       "      <td>0</td>\n",
       "      <td>0.000000e+00</td>\n",
       "      <td>0.000</td>\n",
       "      <td>0.000000e+00</td>\n",
       "      <td>0.000000e+00</td>\n",
       "      <td>Non-Tor</td>\n",
       "      <td>AUDIO-STREAMING</td>\n",
       "    </tr>\n",
       "    <tr>\n",
       "      <th>1</th>\n",
       "      <td>10.152.152.11-216.58.220.99-57159-443-6</td>\n",
       "      <td>10.152.152.11</td>\n",
       "      <td>57159</td>\n",
       "      <td>216.58.220.99</td>\n",
       "      <td>443</td>\n",
       "      <td>6</td>\n",
       "      <td>24/07/2015 04:09:48 PM</td>\n",
       "      <td>407</td>\n",
       "      <td>1</td>\n",
       "      <td>1</td>\n",
       "      <td>...</td>\n",
       "      <td>0</td>\n",
       "      <td>0</td>\n",
       "      <td>0</td>\n",
       "      <td>0</td>\n",
       "      <td>0.000000e+00</td>\n",
       "      <td>0.000</td>\n",
       "      <td>0.000000e+00</td>\n",
       "      <td>0.000000e+00</td>\n",
       "      <td>Non-Tor</td>\n",
       "      <td>AUDIO-STREAMING</td>\n",
       "    </tr>\n",
       "    <tr>\n",
       "      <th>2</th>\n",
       "      <td>10.152.152.11-216.58.220.99-57160-443-6</td>\n",
       "      <td>10.152.152.11</td>\n",
       "      <td>57160</td>\n",
       "      <td>216.58.220.99</td>\n",
       "      <td>443</td>\n",
       "      <td>6</td>\n",
       "      <td>24/07/2015 04:09:48 PM</td>\n",
       "      <td>431</td>\n",
       "      <td>1</td>\n",
       "      <td>1</td>\n",
       "      <td>...</td>\n",
       "      <td>0</td>\n",
       "      <td>0</td>\n",
       "      <td>0</td>\n",
       "      <td>0</td>\n",
       "      <td>0.000000e+00</td>\n",
       "      <td>0.000</td>\n",
       "      <td>0.000000e+00</td>\n",
       "      <td>0.000000e+00</td>\n",
       "      <td>Non-Tor</td>\n",
       "      <td>AUDIO-STREAMING</td>\n",
       "    </tr>\n",
       "    <tr>\n",
       "      <th>3</th>\n",
       "      <td>10.152.152.11-74.125.136.120-49134-443-6</td>\n",
       "      <td>10.152.152.11</td>\n",
       "      <td>49134</td>\n",
       "      <td>74.125.136.120</td>\n",
       "      <td>443</td>\n",
       "      <td>6</td>\n",
       "      <td>24/07/2015 04:09:48 PM</td>\n",
       "      <td>359</td>\n",
       "      <td>1</td>\n",
       "      <td>1</td>\n",
       "      <td>...</td>\n",
       "      <td>0</td>\n",
       "      <td>0</td>\n",
       "      <td>0</td>\n",
       "      <td>0</td>\n",
       "      <td>0.000000e+00</td>\n",
       "      <td>0.000</td>\n",
       "      <td>0.000000e+00</td>\n",
       "      <td>0.000000e+00</td>\n",
       "      <td>Non-Tor</td>\n",
       "      <td>AUDIO-STREAMING</td>\n",
       "    </tr>\n",
       "    <tr>\n",
       "      <th>4</th>\n",
       "      <td>10.152.152.11-173.194.65.127-34697-19305-6</td>\n",
       "      <td>10.152.152.11</td>\n",
       "      <td>34697</td>\n",
       "      <td>173.194.65.127</td>\n",
       "      <td>19305</td>\n",
       "      <td>6</td>\n",
       "      <td>24/07/2015 04:09:45 PM</td>\n",
       "      <td>10778451</td>\n",
       "      <td>591</td>\n",
       "      <td>400</td>\n",
       "      <td>...</td>\n",
       "      <td>0</td>\n",
       "      <td>0</td>\n",
       "      <td>0</td>\n",
       "      <td>0</td>\n",
       "      <td>1.437760e+15</td>\n",
       "      <td>3117718.131</td>\n",
       "      <td>1.437760e+15</td>\n",
       "      <td>1.437760e+15</td>\n",
       "      <td>Non-Tor</td>\n",
       "      <td>AUDIO-STREAMING</td>\n",
       "    </tr>\n",
       "  </tbody>\n",
       "</table>\n",
       "<p>5 rows × 85 columns</p>\n",
       "</div>"
      ],
      "text/plain": [
       "                                      Flow ID         Src IP  Src Port  \\\n",
       "0     10.152.152.11-216.58.220.99-57158-443-6  10.152.152.11     57158   \n",
       "1     10.152.152.11-216.58.220.99-57159-443-6  10.152.152.11     57159   \n",
       "2     10.152.152.11-216.58.220.99-57160-443-6  10.152.152.11     57160   \n",
       "3    10.152.152.11-74.125.136.120-49134-443-6  10.152.152.11     49134   \n",
       "4  10.152.152.11-173.194.65.127-34697-19305-6  10.152.152.11     34697   \n",
       "\n",
       "           Dst IP  Dst Port  Protocol               Timestamp  Flow Duration  \\\n",
       "0   216.58.220.99       443         6  24/07/2015 04:09:48 PM            229   \n",
       "1   216.58.220.99       443         6  24/07/2015 04:09:48 PM            407   \n",
       "2   216.58.220.99       443         6  24/07/2015 04:09:48 PM            431   \n",
       "3  74.125.136.120       443         6  24/07/2015 04:09:48 PM            359   \n",
       "4  173.194.65.127     19305         6  24/07/2015 04:09:45 PM       10778451   \n",
       "\n",
       "   Total Fwd Packet  Total Bwd packets  ...  Active Mean  Active Std  \\\n",
       "0                 1                  1  ...            0           0   \n",
       "1                 1                  1  ...            0           0   \n",
       "2                 1                  1  ...            0           0   \n",
       "3                 1                  1  ...            0           0   \n",
       "4               591                400  ...            0           0   \n",
       "\n",
       "   Active Max  Active Min     Idle Mean     Idle Std      Idle Max  \\\n",
       "0           0           0  0.000000e+00        0.000  0.000000e+00   \n",
       "1           0           0  0.000000e+00        0.000  0.000000e+00   \n",
       "2           0           0  0.000000e+00        0.000  0.000000e+00   \n",
       "3           0           0  0.000000e+00        0.000  0.000000e+00   \n",
       "4           0           0  1.437760e+15  3117718.131  1.437760e+15   \n",
       "\n",
       "       Idle Min    Label          Label.1  \n",
       "0  0.000000e+00  Non-Tor  AUDIO-STREAMING  \n",
       "1  0.000000e+00  Non-Tor  AUDIO-STREAMING  \n",
       "2  0.000000e+00  Non-Tor  AUDIO-STREAMING  \n",
       "3  0.000000e+00  Non-Tor  AUDIO-STREAMING  \n",
       "4  1.437760e+15  Non-Tor  AUDIO-STREAMING  \n",
       "\n",
       "[5 rows x 85 columns]"
      ]
     },
     "execution_count": 84,
     "metadata": {},
     "output_type": "execute_result"
    }
   ],
   "source": [
    "data.head()"
   ]
  },
  {
   "cell_type": "markdown",
   "id": "117229a0-f4a6-4e9a-b23b-3606bcf5a6ce",
   "metadata": {},
   "source": [
    "Some terms are mentionned in the dataset and need to be defiend:\n",
    "* `Flow`:A network flow is a series of communications between two endpoints that are bounded by the opening and closing of the session\n",
    "* `Packet`: In telecommunications and computer networking, a network packet is a formatted unit of data carried by a packet-switched network. A packet consists of control information and user data.\n",
    "* `Payload`:In computing and telecommunications, the payload is the part of transmitted data that is the actual intended message.\n"
   ]
  },
  {
   "cell_type": "code",
   "execution_count": 85,
   "id": "95d68d36-b23c-4ba2-98f1-da14059fee18",
   "metadata": {},
   "outputs": [
    {
     "data": {
      "text/plain": [
       "(141530, 85)"
      ]
     },
     "execution_count": 85,
     "metadata": {},
     "output_type": "execute_result"
    }
   ],
   "source": [
    "data.shape"
   ]
  },
  {
   "cell_type": "code",
   "execution_count": 86,
   "id": "834eb311-215e-4c13-a92c-8b721722c774",
   "metadata": {},
   "outputs": [
    {
     "name": "stdout",
     "output_type": "stream",
     "text": [
      "<class 'pandas.core.frame.DataFrame'>\n",
      "RangeIndex: 141530 entries, 0 to 141529\n",
      "Data columns (total 85 columns):\n",
      " #   Column                      Non-Null Count   Dtype  \n",
      "---  ------                      --------------   -----  \n",
      " 0   Flow ID                     141530 non-null  object \n",
      " 1   Src IP                      141530 non-null  object \n",
      " 2   Src Port                    141530 non-null  int64  \n",
      " 3   Dst IP                      141530 non-null  object \n",
      " 4   Dst Port                    141530 non-null  int64  \n",
      " 5   Protocol                    141530 non-null  int64  \n",
      " 6   Timestamp                   141530 non-null  object \n",
      " 7   Flow Duration               141530 non-null  int64  \n",
      " 8   Total Fwd Packet            141530 non-null  int64  \n",
      " 9   Total Bwd packets           141530 non-null  int64  \n",
      " 10  Total Length of Fwd Packet  141530 non-null  int64  \n",
      " 11  Total Length of Bwd Packet  141530 non-null  int64  \n",
      " 12  Fwd Packet Length Max       141530 non-null  int64  \n",
      " 13  Fwd Packet Length Min       141530 non-null  int64  \n",
      " 14  Fwd Packet Length Mean      141530 non-null  float64\n",
      " 15  Fwd Packet Length Std       141530 non-null  float64\n",
      " 16  Bwd Packet Length Max       141530 non-null  int64  \n",
      " 17  Bwd Packet Length Min       141530 non-null  int64  \n",
      " 18  Bwd Packet Length Mean      141530 non-null  float64\n",
      " 19  Bwd Packet Length Std       141530 non-null  float64\n",
      " 20  Flow Bytes/s                141483 non-null  float64\n",
      " 21  Flow Packets/s              141530 non-null  float64\n",
      " 22  Flow IAT Mean               141530 non-null  float64\n",
      " 23  Flow IAT Std                141530 non-null  float64\n",
      " 24  Flow IAT Max                141530 non-null  int64  \n",
      " 25  Flow IAT Min                141530 non-null  int64  \n",
      " 26  Fwd IAT Total               141530 non-null  int64  \n",
      " 27  Fwd IAT Mean                141530 non-null  float64\n",
      " 28  Fwd IAT Std                 141530 non-null  float64\n",
      " 29  Fwd IAT Max                 141530 non-null  int64  \n",
      " 30  Fwd IAT Min                 141530 non-null  int64  \n",
      " 31  Bwd IAT Total               141530 non-null  int64  \n",
      " 32  Bwd IAT Mean                141530 non-null  float64\n",
      " 33  Bwd IAT Std                 141530 non-null  float64\n",
      " 34  Bwd IAT Max                 141530 non-null  int64  \n",
      " 35  Bwd IAT Min                 141530 non-null  int64  \n",
      " 36  Fwd PSH Flags               141530 non-null  int64  \n",
      " 37  Bwd PSH Flags               141530 non-null  int64  \n",
      " 38  Fwd URG Flags               141530 non-null  int64  \n",
      " 39  Bwd URG Flags               141530 non-null  int64  \n",
      " 40  Fwd Header Length           141530 non-null  int64  \n",
      " 41  Bwd Header Length           141530 non-null  int64  \n",
      " 42  Fwd Packets/s               141530 non-null  float64\n",
      " 43  Bwd Packets/s               141530 non-null  float64\n",
      " 44  Packet Length Min           141530 non-null  int64  \n",
      " 45  Packet Length Max           141530 non-null  int64  \n",
      " 46  Packet Length Mean          141530 non-null  float64\n",
      " 47  Packet Length Std           141530 non-null  float64\n",
      " 48  Packet Length Variance      141530 non-null  float64\n",
      " 49  FIN Flag Count              141530 non-null  int64  \n",
      " 50  SYN Flag Count              141530 non-null  int64  \n",
      " 51  RST Flag Count              141530 non-null  int64  \n",
      " 52  PSH Flag Count              141530 non-null  int64  \n",
      " 53  ACK Flag Count              141530 non-null  int64  \n",
      " 54  URG Flag Count              141530 non-null  int64  \n",
      " 55  CWE Flag Count              141530 non-null  int64  \n",
      " 56  ECE Flag Count              141530 non-null  int64  \n",
      " 57  Down/Up Ratio               141530 non-null  int64  \n",
      " 58  Average Packet Size         141530 non-null  float64\n",
      " 59  Fwd Segment Size Avg        141530 non-null  float64\n",
      " 60  Bwd Segment Size Avg        141530 non-null  float64\n",
      " 61  Fwd Bytes/Bulk Avg          141530 non-null  int64  \n",
      " 62  Fwd Packet/Bulk Avg         141530 non-null  int64  \n",
      " 63  Fwd Bulk Rate Avg           141530 non-null  int64  \n",
      " 64  Bwd Bytes/Bulk Avg          141530 non-null  int64  \n",
      " 65  Bwd Packet/Bulk Avg         141530 non-null  int64  \n",
      " 66  Bwd Bulk Rate Avg           141530 non-null  int64  \n",
      " 67  Subflow Fwd Packets         141530 non-null  int64  \n",
      " 68  Subflow Fwd Bytes           141530 non-null  int64  \n",
      " 69  Subflow Bwd Packets         141530 non-null  int64  \n",
      " 70  Subflow Bwd Bytes           141530 non-null  int64  \n",
      " 71  FWD Init Win Bytes          141530 non-null  int64  \n",
      " 72  Bwd Init Win Bytes          141530 non-null  int64  \n",
      " 73  Fwd Act Data Pkts           141530 non-null  int64  \n",
      " 74  Fwd Seg Size Min            141530 non-null  int64  \n",
      " 75  Active Mean                 141530 non-null  int64  \n",
      " 76  Active Std                  141530 non-null  int64  \n",
      " 77  Active Max                  141530 non-null  int64  \n",
      " 78  Active Min                  141530 non-null  int64  \n",
      " 79  Idle Mean                   141530 non-null  float64\n",
      " 80  Idle Std                    141530 non-null  float64\n",
      " 81  Idle Max                    141530 non-null  float64\n",
      " 82  Idle Min                    141530 non-null  float64\n",
      " 83  Label                       141530 non-null  object \n",
      " 84  Label.1                     141530 non-null  object \n",
      "dtypes: float64(24), int64(55), object(6)\n",
      "memory usage: 91.8+ MB\n"
     ]
    }
   ],
   "source": [
    "data.info()"
   ]
  },
  {
   "cell_type": "code",
   "execution_count": 87,
   "id": "c514d3df-4b5d-4be0-ac27-06ded8a31490",
   "metadata": {},
   "outputs": [],
   "source": [
    "# Renaming the two target columns Label and Label.1\n",
    "data.rename(columns = {'Label':'traffic', 'Label.1':'application'}, inplace = True)"
   ]
  },
  {
   "cell_type": "markdown",
   "id": "2aee4f25-10a0-40ff-968b-9d611a249b03",
   "metadata": {},
   "source": [
    "## Recap\n",
    "* In this part we found that the data has the shape of (141530, 85)\n",
    "* 141530 rows\n",
    "* 85 features\n",
    "* It contains 6 categorical columns and 79 numerical columns\n",
    "* We have two target columns which are Label and Label.1\n",
    "* the two target columns were renamad respectively traffic and application"
   ]
  },
  {
   "cell_type": "markdown",
   "id": "3c436691-941a-4bbd-9f3e-7d896283a9dd",
   "metadata": {},
   "source": [
    "## Data Cleaning"
   ]
  },
  {
   "cell_type": "code",
   "execution_count": 88,
   "id": "48886668-e377-42b4-8fb6-b996515c6a7c",
   "metadata": {},
   "outputs": [],
   "source": [
    "def show_missing(df):\n",
    "    \"\"\"Return a Pandas dataframe describing the contents of a source dataframe including missing values.\"\"\"\n",
    "    \n",
    "    variables = []\n",
    "    dtypes = []\n",
    "    count = []\n",
    "    unique = []\n",
    "    missing = []\n",
    "    infinity = []\n",
    "    \n",
    "    for item in df.columns:\n",
    "        variables.append(item)\n",
    "        dtypes.append(df[item].dtype)\n",
    "        count.append(len(df[item]))\n",
    "        unique.append(len(df[item].unique()))\n",
    "        missing.append(df[item].isna().sum())\n",
    "        if df[item].dtypes=='float64'or df[item].dtypes=='int64':\n",
    "            infinity.append(np.isinf(df[item]).values.sum())\n",
    "        else:\n",
    "            infinity.append('not_supported')\n",
    "        \n",
    "    \n",
    "\n",
    "    output = pd.DataFrame({\n",
    "        'variable': variables, \n",
    "        'dtype': dtypes,\n",
    "        'count': count,\n",
    "        'unique': unique,\n",
    "        'missing': missing, \n",
    "        'infinity':infinity\n",
    "    \n",
    "    })    \n",
    "        \n",
    "    return output"
   ]
  },
  {
   "cell_type": "code",
   "execution_count": 89,
   "id": "a0f07378-12fb-4105-89e0-627109bab3b1",
   "metadata": {},
   "outputs": [
    {
     "data": {
      "text/html": [
       "<div>\n",
       "<style scoped>\n",
       "    .dataframe tbody tr th:only-of-type {\n",
       "        vertical-align: middle;\n",
       "    }\n",
       "\n",
       "    .dataframe tbody tr th {\n",
       "        vertical-align: top;\n",
       "    }\n",
       "\n",
       "    .dataframe thead th {\n",
       "        text-align: right;\n",
       "    }\n",
       "</style>\n",
       "<table border=\"1\" class=\"dataframe\">\n",
       "  <thead>\n",
       "    <tr style=\"text-align: right;\">\n",
       "      <th></th>\n",
       "      <th>variable</th>\n",
       "      <th>dtype</th>\n",
       "      <th>count</th>\n",
       "      <th>unique</th>\n",
       "      <th>missing</th>\n",
       "      <th>infinity</th>\n",
       "    </tr>\n",
       "  </thead>\n",
       "  <tbody>\n",
       "    <tr>\n",
       "      <th>0</th>\n",
       "      <td>Flow ID</td>\n",
       "      <td>object</td>\n",
       "      <td>141530</td>\n",
       "      <td>77568</td>\n",
       "      <td>0</td>\n",
       "      <td>not_supported</td>\n",
       "    </tr>\n",
       "    <tr>\n",
       "      <th>1</th>\n",
       "      <td>Src IP</td>\n",
       "      <td>object</td>\n",
       "      <td>141530</td>\n",
       "      <td>3914</td>\n",
       "      <td>0</td>\n",
       "      <td>not_supported</td>\n",
       "    </tr>\n",
       "    <tr>\n",
       "      <th>2</th>\n",
       "      <td>Src Port</td>\n",
       "      <td>int64</td>\n",
       "      <td>141530</td>\n",
       "      <td>34278</td>\n",
       "      <td>0</td>\n",
       "      <td>0</td>\n",
       "    </tr>\n",
       "    <tr>\n",
       "      <th>3</th>\n",
       "      <td>Dst IP</td>\n",
       "      <td>object</td>\n",
       "      <td>141530</td>\n",
       "      <td>7197</td>\n",
       "      <td>0</td>\n",
       "      <td>not_supported</td>\n",
       "    </tr>\n",
       "    <tr>\n",
       "      <th>4</th>\n",
       "      <td>Dst Port</td>\n",
       "      <td>int64</td>\n",
       "      <td>141530</td>\n",
       "      <td>12795</td>\n",
       "      <td>0</td>\n",
       "      <td>0</td>\n",
       "    </tr>\n",
       "    <tr>\n",
       "      <th>...</th>\n",
       "      <td>...</td>\n",
       "      <td>...</td>\n",
       "      <td>...</td>\n",
       "      <td>...</td>\n",
       "      <td>...</td>\n",
       "      <td>...</td>\n",
       "    </tr>\n",
       "    <tr>\n",
       "      <th>80</th>\n",
       "      <td>Idle Std</td>\n",
       "      <td>float64</td>\n",
       "      <td>141530</td>\n",
       "      <td>40820</td>\n",
       "      <td>0</td>\n",
       "      <td>0</td>\n",
       "    </tr>\n",
       "    <tr>\n",
       "      <th>81</th>\n",
       "      <td>Idle Max</td>\n",
       "      <td>float64</td>\n",
       "      <td>141530</td>\n",
       "      <td>1450</td>\n",
       "      <td>0</td>\n",
       "      <td>0</td>\n",
       "    </tr>\n",
       "    <tr>\n",
       "      <th>82</th>\n",
       "      <td>Idle Min</td>\n",
       "      <td>float64</td>\n",
       "      <td>141530</td>\n",
       "      <td>11422</td>\n",
       "      <td>0</td>\n",
       "      <td>0</td>\n",
       "    </tr>\n",
       "    <tr>\n",
       "      <th>83</th>\n",
       "      <td>traffic</td>\n",
       "      <td>object</td>\n",
       "      <td>141530</td>\n",
       "      <td>4</td>\n",
       "      <td>0</td>\n",
       "      <td>not_supported</td>\n",
       "    </tr>\n",
       "    <tr>\n",
       "      <th>84</th>\n",
       "      <td>application</td>\n",
       "      <td>object</td>\n",
       "      <td>141530</td>\n",
       "      <td>11</td>\n",
       "      <td>0</td>\n",
       "      <td>not_supported</td>\n",
       "    </tr>\n",
       "  </tbody>\n",
       "</table>\n",
       "<p>85 rows × 6 columns</p>\n",
       "</div>"
      ],
      "text/plain": [
       "       variable    dtype   count  unique  missing       infinity\n",
       "0       Flow ID   object  141530   77568        0  not_supported\n",
       "1        Src IP   object  141530    3914        0  not_supported\n",
       "2      Src Port    int64  141530   34278        0              0\n",
       "3        Dst IP   object  141530    7197        0  not_supported\n",
       "4      Dst Port    int64  141530   12795        0              0\n",
       "..          ...      ...     ...     ...      ...            ...\n",
       "80     Idle Std  float64  141530   40820        0              0\n",
       "81     Idle Max  float64  141530    1450        0              0\n",
       "82     Idle Min  float64  141530   11422        0              0\n",
       "83      traffic   object  141530       4        0  not_supported\n",
       "84  application   object  141530      11        0  not_supported\n",
       "\n",
       "[85 rows x 6 columns]"
      ]
     },
     "execution_count": 89,
     "metadata": {},
     "output_type": "execute_result"
    }
   ],
   "source": [
    "show_missing(data)"
   ]
  },
  {
   "cell_type": "code",
   "execution_count": 90,
   "id": "e854d212-aad5-43a0-ac31-253961773e28",
   "metadata": {},
   "outputs": [],
   "source": [
    "table = show_missing(data)"
   ]
  },
  {
   "cell_type": "code",
   "execution_count": 91,
   "id": "6c42d086-2a86-49b1-a483-967815fa2ecf",
   "metadata": {},
   "outputs": [
    {
     "data": {
      "text/html": [
       "<div>\n",
       "<style scoped>\n",
       "    .dataframe tbody tr th:only-of-type {\n",
       "        vertical-align: middle;\n",
       "    }\n",
       "\n",
       "    .dataframe tbody tr th {\n",
       "        vertical-align: top;\n",
       "    }\n",
       "\n",
       "    .dataframe thead th {\n",
       "        text-align: right;\n",
       "    }\n",
       "</style>\n",
       "<table border=\"1\" class=\"dataframe\">\n",
       "  <thead>\n",
       "    <tr style=\"text-align: right;\">\n",
       "      <th></th>\n",
       "      <th>variable</th>\n",
       "      <th>dtype</th>\n",
       "      <th>count</th>\n",
       "      <th>unique</th>\n",
       "      <th>missing</th>\n",
       "      <th>infinity</th>\n",
       "    </tr>\n",
       "  </thead>\n",
       "  <tbody>\n",
       "    <tr>\n",
       "      <th>20</th>\n",
       "      <td>Flow Bytes/s</td>\n",
       "      <td>float64</td>\n",
       "      <td>141530</td>\n",
       "      <td>73856</td>\n",
       "      <td>47</td>\n",
       "      <td>2</td>\n",
       "    </tr>\n",
       "    <tr>\n",
       "      <th>21</th>\n",
       "      <td>Flow Packets/s</td>\n",
       "      <td>float64</td>\n",
       "      <td>141530</td>\n",
       "      <td>82670</td>\n",
       "      <td>0</td>\n",
       "      <td>49</td>\n",
       "    </tr>\n",
       "  </tbody>\n",
       "</table>\n",
       "</div>"
      ],
      "text/plain": [
       "          variable    dtype   count  unique  missing infinity\n",
       "20    Flow Bytes/s  float64  141530   73856       47        2\n",
       "21  Flow Packets/s  float64  141530   82670        0       49"
      ]
     },
     "execution_count": 91,
     "metadata": {},
     "output_type": "execute_result"
    }
   ],
   "source": [
    "# data with infinity values\n",
    "table.loc[(table['infinity']!=0) & (table['infinity']!='not_supported')]"
   ]
  },
  {
   "cell_type": "code",
   "execution_count": 92,
   "id": "eac316cc-b6a5-4e11-b99c-79cfbecde339",
   "metadata": {},
   "outputs": [
    {
     "data": {
      "text/html": [
       "<div>\n",
       "<style scoped>\n",
       "    .dataframe tbody tr th:only-of-type {\n",
       "        vertical-align: middle;\n",
       "    }\n",
       "\n",
       "    .dataframe tbody tr th {\n",
       "        vertical-align: top;\n",
       "    }\n",
       "\n",
       "    .dataframe thead th {\n",
       "        text-align: right;\n",
       "    }\n",
       "</style>\n",
       "<table border=\"1\" class=\"dataframe\">\n",
       "  <thead>\n",
       "    <tr style=\"text-align: right;\">\n",
       "      <th></th>\n",
       "      <th>variable</th>\n",
       "      <th>dtype</th>\n",
       "      <th>count</th>\n",
       "      <th>unique</th>\n",
       "      <th>missing</th>\n",
       "      <th>infinity</th>\n",
       "    </tr>\n",
       "  </thead>\n",
       "  <tbody>\n",
       "    <tr>\n",
       "      <th>20</th>\n",
       "      <td>Flow Bytes/s</td>\n",
       "      <td>float64</td>\n",
       "      <td>141530</td>\n",
       "      <td>73856</td>\n",
       "      <td>47</td>\n",
       "      <td>2</td>\n",
       "    </tr>\n",
       "  </tbody>\n",
       "</table>\n",
       "</div>"
      ],
      "text/plain": [
       "        variable    dtype   count  unique  missing infinity\n",
       "20  Flow Bytes/s  float64  141530   73856       47        2"
      ]
     },
     "execution_count": 92,
     "metadata": {},
     "output_type": "execute_result"
    }
   ],
   "source": [
    "# data with missing values\n",
    "table.loc[(table['missing']!=0) ]"
   ]
  },
  {
   "cell_type": "markdown",
   "id": "3769e4c5-5b29-4027-b82e-79e8af9ec1d3",
   "metadata": {},
   "source": [
    "### Removing missing and infinity values "
   ]
  },
  {
   "cell_type": "code",
   "execution_count": 93,
   "id": "4c718617-0f30-4377-a956-0936defbda6b",
   "metadata": {},
   "outputs": [],
   "source": [
    "# Drop data with NaN values\n",
    "data.dropna(axis=0 ,inplace=True)"
   ]
  },
  {
   "cell_type": "code",
   "execution_count": 94,
   "id": "c3fbc4f0-2707-42e9-baf7-22c93bb3e427",
   "metadata": {},
   "outputs": [],
   "source": [
    "# Drop Infinity data\n",
    "\n",
    "# Replace infinite updated data with nan\n",
    "data.replace([np.inf, -np.inf], np.nan, inplace=True)\n",
    "# Drop rows with NaN\n",
    "data.dropna(inplace=True)"
   ]
  },
  {
   "cell_type": "markdown",
   "id": "58270602-4897-4f87-ae08-f11f24480115",
   "metadata": {},
   "source": [
    "### Drop duplicates"
   ]
  },
  {
   "cell_type": "code",
   "execution_count": 95,
   "id": "af67896d-9f5d-4795-a013-72790d34d07e",
   "metadata": {},
   "outputs": [],
   "source": [
    "data = data.drop_duplicates()"
   ]
  },
  {
   "cell_type": "code",
   "execution_count": 96,
   "id": "4fbcaacc-efa7-444f-90a7-8abefbe059a5",
   "metadata": {},
   "outputs": [
    {
     "data": {
      "text/plain": [
       "(117024, 85)"
      ]
     },
     "execution_count": 96,
     "metadata": {},
     "output_type": "execute_result"
    }
   ],
   "source": [
    "data.shape"
   ]
  },
  {
   "cell_type": "code",
   "execution_count": 97,
   "id": "5e5f494c-c90c-4c7b-8806-a8952451f513",
   "metadata": {},
   "outputs": [
    {
     "data": {
      "text/html": [
       "<div>\n",
       "<style scoped>\n",
       "    .dataframe tbody tr th:only-of-type {\n",
       "        vertical-align: middle;\n",
       "    }\n",
       "\n",
       "    .dataframe tbody tr th {\n",
       "        vertical-align: top;\n",
       "    }\n",
       "\n",
       "    .dataframe thead th {\n",
       "        text-align: right;\n",
       "    }\n",
       "</style>\n",
       "<table border=\"1\" class=\"dataframe\">\n",
       "  <thead>\n",
       "    <tr style=\"text-align: right;\">\n",
       "      <th></th>\n",
       "      <th>Src Port</th>\n",
       "      <th>Dst Port</th>\n",
       "      <th>Protocol</th>\n",
       "      <th>Flow Duration</th>\n",
       "      <th>Total Fwd Packet</th>\n",
       "      <th>Total Bwd packets</th>\n",
       "      <th>Total Length of Fwd Packet</th>\n",
       "      <th>Total Length of Bwd Packet</th>\n",
       "      <th>Fwd Packet Length Max</th>\n",
       "      <th>Fwd Packet Length Min</th>\n",
       "      <th>...</th>\n",
       "      <th>Fwd Act Data Pkts</th>\n",
       "      <th>Fwd Seg Size Min</th>\n",
       "      <th>Active Mean</th>\n",
       "      <th>Active Std</th>\n",
       "      <th>Active Max</th>\n",
       "      <th>Active Min</th>\n",
       "      <th>Idle Mean</th>\n",
       "      <th>Idle Std</th>\n",
       "      <th>Idle Max</th>\n",
       "      <th>Idle Min</th>\n",
       "    </tr>\n",
       "  </thead>\n",
       "  <tbody>\n",
       "    <tr>\n",
       "      <th>count</th>\n",
       "      <td>117024.000000</td>\n",
       "      <td>117024.000000</td>\n",
       "      <td>117024.000000</td>\n",
       "      <td>1.170240e+05</td>\n",
       "      <td>117024.000000</td>\n",
       "      <td>117024.000000</td>\n",
       "      <td>1.170240e+05</td>\n",
       "      <td>1.170240e+05</td>\n",
       "      <td>117024.000000</td>\n",
       "      <td>117024.000000</td>\n",
       "      <td>...</td>\n",
       "      <td>117024.000000</td>\n",
       "      <td>117024.000000</td>\n",
       "      <td>117024.0</td>\n",
       "      <td>117024.0</td>\n",
       "      <td>117024.0</td>\n",
       "      <td>117024.0</td>\n",
       "      <td>1.170240e+05</td>\n",
       "      <td>1.170240e+05</td>\n",
       "      <td>1.170240e+05</td>\n",
       "      <td>1.170240e+05</td>\n",
       "    </tr>\n",
       "    <tr>\n",
       "      <th>mean</th>\n",
       "      <td>38353.201899</td>\n",
       "      <td>14178.243976</td>\n",
       "      <td>10.813551</td>\n",
       "      <td>1.999708e+07</td>\n",
       "      <td>161.756981</td>\n",
       "      <td>163.767962</td>\n",
       "      <td>1.176201e+05</td>\n",
       "      <td>1.380814e+05</td>\n",
       "      <td>204.640928</td>\n",
       "      <td>17.433424</td>\n",
       "      <td>...</td>\n",
       "      <td>101.709231</td>\n",
       "      <td>15.418991</td>\n",
       "      <td>0.0</td>\n",
       "      <td>0.0</td>\n",
       "      <td>0.0</td>\n",
       "      <td>0.0</td>\n",
       "      <td>6.573187e+14</td>\n",
       "      <td>5.307444e+13</td>\n",
       "      <td>6.849090e+14</td>\n",
       "      <td>5.607930e+14</td>\n",
       "    </tr>\n",
       "    <tr>\n",
       "      <th>std</th>\n",
       "      <td>19483.506722</td>\n",
       "      <td>20769.517668</td>\n",
       "      <td>5.520459</td>\n",
       "      <td>3.781918e+07</td>\n",
       "      <td>2531.255554</td>\n",
       "      <td>3714.529211</td>\n",
       "      <td>3.502089e+06</td>\n",
       "      <td>4.980936e+06</td>\n",
       "      <td>687.546808</td>\n",
       "      <td>31.330114</td>\n",
       "      <td>...</td>\n",
       "      <td>1651.866093</td>\n",
       "      <td>7.453350</td>\n",
       "      <td>0.0</td>\n",
       "      <td>0.0</td>\n",
       "      <td>0.0</td>\n",
       "      <td>0.0</td>\n",
       "      <td>7.028765e+14</td>\n",
       "      <td>1.928077e+14</td>\n",
       "      <td>7.228249e+14</td>\n",
       "      <td>7.051623e+14</td>\n",
       "    </tr>\n",
       "    <tr>\n",
       "      <th>min</th>\n",
       "      <td>0.000000</td>\n",
       "      <td>0.000000</td>\n",
       "      <td>0.000000</td>\n",
       "      <td>1.000000e+00</td>\n",
       "      <td>1.000000</td>\n",
       "      <td>0.000000</td>\n",
       "      <td>0.000000e+00</td>\n",
       "      <td>0.000000e+00</td>\n",
       "      <td>0.000000</td>\n",
       "      <td>0.000000</td>\n",
       "      <td>...</td>\n",
       "      <td>0.000000</td>\n",
       "      <td>0.000000</td>\n",
       "      <td>0.0</td>\n",
       "      <td>0.0</td>\n",
       "      <td>0.0</td>\n",
       "      <td>0.0</td>\n",
       "      <td>0.000000e+00</td>\n",
       "      <td>0.000000e+00</td>\n",
       "      <td>0.000000e+00</td>\n",
       "      <td>0.000000e+00</td>\n",
       "    </tr>\n",
       "    <tr>\n",
       "      <th>25%</th>\n",
       "      <td>30602.500000</td>\n",
       "      <td>53.000000</td>\n",
       "      <td>6.000000</td>\n",
       "      <td>9.197500e+02</td>\n",
       "      <td>1.000000</td>\n",
       "      <td>0.000000</td>\n",
       "      <td>0.000000e+00</td>\n",
       "      <td>0.000000e+00</td>\n",
       "      <td>0.000000</td>\n",
       "      <td>0.000000</td>\n",
       "      <td>...</td>\n",
       "      <td>0.000000</td>\n",
       "      <td>8.000000</td>\n",
       "      <td>0.0</td>\n",
       "      <td>0.0</td>\n",
       "      <td>0.0</td>\n",
       "      <td>0.0</td>\n",
       "      <td>0.000000e+00</td>\n",
       "      <td>0.000000e+00</td>\n",
       "      <td>0.000000e+00</td>\n",
       "      <td>0.000000e+00</td>\n",
       "    </tr>\n",
       "    <tr>\n",
       "      <th>50%</th>\n",
       "      <td>43535.000000</td>\n",
       "      <td>443.000000</td>\n",
       "      <td>6.000000</td>\n",
       "      <td>4.111905e+05</td>\n",
       "      <td>2.000000</td>\n",
       "      <td>1.000000</td>\n",
       "      <td>4.400000e+01</td>\n",
       "      <td>2.000000e+01</td>\n",
       "      <td>34.000000</td>\n",
       "      <td>0.000000</td>\n",
       "      <td>...</td>\n",
       "      <td>0.000000</td>\n",
       "      <td>20.000000</td>\n",
       "      <td>0.0</td>\n",
       "      <td>0.0</td>\n",
       "      <td>0.0</td>\n",
       "      <td>0.0</td>\n",
       "      <td>0.000000e+00</td>\n",
       "      <td>0.000000e+00</td>\n",
       "      <td>0.000000e+00</td>\n",
       "      <td>0.000000e+00</td>\n",
       "    </tr>\n",
       "    <tr>\n",
       "      <th>75%</th>\n",
       "      <td>53576.250000</td>\n",
       "      <td>31501.000000</td>\n",
       "      <td>17.000000</td>\n",
       "      <td>9.900086e+06</td>\n",
       "      <td>4.000000</td>\n",
       "      <td>3.000000</td>\n",
       "      <td>1.960000e+02</td>\n",
       "      <td>2.340000e+02</td>\n",
       "      <td>89.000000</td>\n",
       "      <td>33.000000</td>\n",
       "      <td>...</td>\n",
       "      <td>1.000000</td>\n",
       "      <td>20.000000</td>\n",
       "      <td>0.0</td>\n",
       "      <td>0.0</td>\n",
       "      <td>0.0</td>\n",
       "      <td>0.0</td>\n",
       "      <td>1.438020e+15</td>\n",
       "      <td>5.064913e+06</td>\n",
       "      <td>1.456250e+15</td>\n",
       "      <td>1.438010e+15</td>\n",
       "    </tr>\n",
       "    <tr>\n",
       "      <th>max</th>\n",
       "      <td>65534.000000</td>\n",
       "      <td>65535.000000</td>\n",
       "      <td>17.000000</td>\n",
       "      <td>1.200000e+08</td>\n",
       "      <td>238161.000000</td>\n",
       "      <td>470862.000000</td>\n",
       "      <td>7.693074e+08</td>\n",
       "      <td>6.704287e+08</td>\n",
       "      <td>64240.000000</td>\n",
       "      <td>1350.000000</td>\n",
       "      <td>...</td>\n",
       "      <td>113325.000000</td>\n",
       "      <td>44.000000</td>\n",
       "      <td>0.0</td>\n",
       "      <td>0.0</td>\n",
       "      <td>0.0</td>\n",
       "      <td>0.0</td>\n",
       "      <td>1.460000e+15</td>\n",
       "      <td>1.030000e+15</td>\n",
       "      <td>1.460000e+15</td>\n",
       "      <td>1.460000e+15</td>\n",
       "    </tr>\n",
       "  </tbody>\n",
       "</table>\n",
       "<p>8 rows × 79 columns</p>\n",
       "</div>"
      ],
      "text/plain": [
       "            Src Port       Dst Port       Protocol  Flow Duration  \\\n",
       "count  117024.000000  117024.000000  117024.000000   1.170240e+05   \n",
       "mean    38353.201899   14178.243976      10.813551   1.999708e+07   \n",
       "std     19483.506722   20769.517668       5.520459   3.781918e+07   \n",
       "min         0.000000       0.000000       0.000000   1.000000e+00   \n",
       "25%     30602.500000      53.000000       6.000000   9.197500e+02   \n",
       "50%     43535.000000     443.000000       6.000000   4.111905e+05   \n",
       "75%     53576.250000   31501.000000      17.000000   9.900086e+06   \n",
       "max     65534.000000   65535.000000      17.000000   1.200000e+08   \n",
       "\n",
       "       Total Fwd Packet  Total Bwd packets  Total Length of Fwd Packet  \\\n",
       "count     117024.000000      117024.000000                1.170240e+05   \n",
       "mean         161.756981         163.767962                1.176201e+05   \n",
       "std         2531.255554        3714.529211                3.502089e+06   \n",
       "min            1.000000           0.000000                0.000000e+00   \n",
       "25%            1.000000           0.000000                0.000000e+00   \n",
       "50%            2.000000           1.000000                4.400000e+01   \n",
       "75%            4.000000           3.000000                1.960000e+02   \n",
       "max       238161.000000      470862.000000                7.693074e+08   \n",
       "\n",
       "       Total Length of Bwd Packet  Fwd Packet Length Max  \\\n",
       "count                1.170240e+05          117024.000000   \n",
       "mean                 1.380814e+05             204.640928   \n",
       "std                  4.980936e+06             687.546808   \n",
       "min                  0.000000e+00               0.000000   \n",
       "25%                  0.000000e+00               0.000000   \n",
       "50%                  2.000000e+01              34.000000   \n",
       "75%                  2.340000e+02              89.000000   \n",
       "max                  6.704287e+08           64240.000000   \n",
       "\n",
       "       Fwd Packet Length Min  ...  Fwd Act Data Pkts  Fwd Seg Size Min  \\\n",
       "count          117024.000000  ...      117024.000000     117024.000000   \n",
       "mean               17.433424  ...         101.709231         15.418991   \n",
       "std                31.330114  ...        1651.866093          7.453350   \n",
       "min                 0.000000  ...           0.000000          0.000000   \n",
       "25%                 0.000000  ...           0.000000          8.000000   \n",
       "50%                 0.000000  ...           0.000000         20.000000   \n",
       "75%                33.000000  ...           1.000000         20.000000   \n",
       "max              1350.000000  ...      113325.000000         44.000000   \n",
       "\n",
       "       Active Mean  Active Std  Active Max  Active Min     Idle Mean  \\\n",
       "count     117024.0    117024.0    117024.0    117024.0  1.170240e+05   \n",
       "mean           0.0         0.0         0.0         0.0  6.573187e+14   \n",
       "std            0.0         0.0         0.0         0.0  7.028765e+14   \n",
       "min            0.0         0.0         0.0         0.0  0.000000e+00   \n",
       "25%            0.0         0.0         0.0         0.0  0.000000e+00   \n",
       "50%            0.0         0.0         0.0         0.0  0.000000e+00   \n",
       "75%            0.0         0.0         0.0         0.0  1.438020e+15   \n",
       "max            0.0         0.0         0.0         0.0  1.460000e+15   \n",
       "\n",
       "           Idle Std      Idle Max      Idle Min  \n",
       "count  1.170240e+05  1.170240e+05  1.170240e+05  \n",
       "mean   5.307444e+13  6.849090e+14  5.607930e+14  \n",
       "std    1.928077e+14  7.228249e+14  7.051623e+14  \n",
       "min    0.000000e+00  0.000000e+00  0.000000e+00  \n",
       "25%    0.000000e+00  0.000000e+00  0.000000e+00  \n",
       "50%    0.000000e+00  0.000000e+00  0.000000e+00  \n",
       "75%    5.064913e+06  1.456250e+15  1.438010e+15  \n",
       "max    1.030000e+15  1.460000e+15  1.460000e+15  \n",
       "\n",
       "[8 rows x 79 columns]"
      ]
     },
     "execution_count": 97,
     "metadata": {},
     "output_type": "execute_result"
    }
   ],
   "source": [
    "data.describe()"
   ]
  },
  {
   "cell_type": "markdown",
   "id": "8c1a497a-f79e-410e-b98f-7e1e1b48e7c8",
   "metadata": {},
   "source": [
    "## Recap\n",
    "* In this part we search for missing and infinity values\n",
    "* The `Flow Bytes/s` columns has 47 missing and 2 infinity values\n",
    "* The `Flow Packets/s` columns has 49 missing values\n",
    "* The approach chosen to deal with missing values was to delete them\n",
    "* Latter on and depending on the model accuracy we will try imputing this missing and infinity values"
   ]
  },
  {
   "cell_type": "code",
   "execution_count": 98,
   "id": "d5ad7af7-6362-418c-a28e-e401c4e3fbd3",
   "metadata": {},
   "outputs": [],
   "source": [
    "data.to_csv('cleaned_data.csv',index=False)"
   ]
  },
  {
   "cell_type": "markdown",
   "id": "32d5ad8e-d460-4275-abd4-51b19c22fb9a",
   "metadata": {
    "tags": []
   },
   "source": [
    "## Data visualisations"
   ]
  },
  {
   "cell_type": "code",
   "execution_count": 99,
   "id": "5bc5a7ee-0566-4da6-8384-f6f78f915b8a",
   "metadata": {},
   "outputs": [
    {
     "data": {
      "text/plain": [
       "Flow ID        77522\n",
       "Src IP          3906\n",
       "Src Port       34278\n",
       "Dst IP          7197\n",
       "Dst Port       12761\n",
       "               ...  \n",
       "Idle Std       40820\n",
       "Idle Max        1450\n",
       "Idle Min       11422\n",
       "traffic            4\n",
       "application       11\n",
       "Length: 85, dtype: int64"
      ]
     },
     "execution_count": 99,
     "metadata": {},
     "output_type": "execute_result"
    }
   ],
   "source": [
    "data.nunique()"
   ]
  },
  {
   "cell_type": "code",
   "execution_count": 100,
   "id": "7f4069e6-3252-47d8-ab39-39e4c2a8d045",
   "metadata": {},
   "outputs": [
    {
     "data": {
      "text/plain": [
       "array(['Non-Tor', 'NonVPN', 'Tor', 'VPN'], dtype=object)"
      ]
     },
     "execution_count": 100,
     "metadata": {},
     "output_type": "execute_result"
    }
   ],
   "source": [
    "data['traffic'].unique()"
   ]
  },
  {
   "cell_type": "code",
   "execution_count": 101,
   "id": "31e94932-4de4-4a88-8e2e-d7725a5665d4",
   "metadata": {},
   "outputs": [
    {
     "data": {
      "text/plain": [
       "Non-Tor    69065\n",
       "NonVPN     23861\n",
       "VPN        22919\n",
       "Tor         1179\n",
       "Name: traffic, dtype: int64"
      ]
     },
     "execution_count": 101,
     "metadata": {},
     "output_type": "execute_result"
    }
   ],
   "source": [
    "data['traffic'].value_counts()"
   ]
  },
  {
   "cell_type": "code",
   "execution_count": 102,
   "id": "0613e7bf-5865-4dc2-a15a-7197aa1f9526",
   "metadata": {},
   "outputs": [
    {
     "data": {
      "image/png": "[encoded data removed]",
      "text/plain": [
       "<Figure size 1080x432 with 1 Axes>"
      ]
     },
     "metadata": {
      "needs_background": "light"
     },
     "output_type": "display_data"
    }
   ],
   "source": [
    "plt.figure(figsize=(15,6))\n",
    "sns.countplot(data['traffic'], data=data,\n",
    "              palette='hls')\n",
    "plt.xticks(rotation=90)\n",
    "plt.show()"
   ]
  },
  {
   "cell_type": "code",
   "execution_count": 103,
   "id": "d2233a16-fa06-41ae-8005-83fc9f675a89",
   "metadata": {},
   "outputs": [
    {
     "data": {
      "image/png": "[encoded data removed]",
      "text/plain": [
       "<Figure size 2160x1440 with 1 Axes>"
      ]
     },
     "metadata": {},
     "output_type": "display_data"
    }
   ],
   "source": [
    "label_data=data['traffic'].value_counts()\n",
    "explode=(0.0,0.0,0.0,0.0)\n",
    "plt.figure(figsize=(30,20))\n",
    "patches, texts, pts= plt.pie(label_data,\n",
    "                               labels=label_data.index,\n",
    "                               colors=['blue','green','red','yellow'],\n",
    "                               autopct='%1.1f%%',\n",
    "                               textprops={'fontsize':25,\n",
    "                                          'color':'black',\n",
    "                                          'family':'serif'})\n",
    "#plt.setp(pcts, color='black')\n",
    "hfont={'fontname':'serif', 'weight':'bold'}\n",
    "plt.title('traffic', size=20, **hfont)\n",
    "centre_circle=plt.Circle((0,0),0.40, fc='white')\n",
    "fig = plt.gcf()\n",
    "fig.gca().add_artist(centre_circle)\n",
    "plt.show()"
   ]
  },
  {
   "cell_type": "code",
   "execution_count": 104,
   "id": "19479f01-f25b-491d-bf3b-e3734a1d1e41",
   "metadata": {},
   "outputs": [
    {
     "data": {
      "text/plain": [
       "array(['AUDIO-STREAMING', 'Browsing', 'Chat', 'Email', 'File-Transfer',\n",
       "       'File-transfer', 'P2P', 'Video-Streaming', 'Audio-Streaming',\n",
       "       'Video-streaming', 'VOIP'], dtype=object)"
      ]
     },
     "execution_count": 104,
     "metadata": {},
     "output_type": "execute_result"
    }
   ],
   "source": [
    "data['application'].unique()"
   ]
  },
  {
   "cell_type": "code",
   "execution_count": 105,
   "id": "de40158a-6b30-49b8-a965-dea139cdcd36",
   "metadata": {},
   "outputs": [],
   "source": [
    "## we need to do some labels correction\n",
    "data['application'].loc[data['application'] == 'AUDIO-STREAMING'] = 'Audio-Streaming'\n",
    "data['application'].loc[data['application'] == 'File-transfer'] = 'File-Transfer'\n",
    "data['application'].loc[data['application'] == 'Video-streaming'] = 'Video-Streaming'\n"
   ]
  },
  {
   "cell_type": "code",
   "execution_count": 106,
   "id": "3d74c48d-8f6c-41d4-9601-dc5a275ce5db",
   "metadata": {},
   "outputs": [
    {
     "data": {
      "text/plain": [
       "array(['Audio-Streaming', 'Browsing', 'Chat', 'Email', 'File-Transfer',\n",
       "       'P2P', 'Video-Streaming', 'VOIP'], dtype=object)"
      ]
     },
     "execution_count": 106,
     "metadata": {},
     "output_type": "execute_result"
    }
   ],
   "source": [
    "data['application'].unique()"
   ]
  },
  {
   "cell_type": "code",
   "execution_count": 107,
   "id": "65b7de07-7687-48e8-aee1-683868f24beb",
   "metadata": {},
   "outputs": [
    {
     "data": {
      "text/plain": [
       "Browsing           32714\n",
       "P2P                24260\n",
       "Audio-Streaming    17947\n",
       "Chat               11473\n",
       "File-Transfer      11173\n",
       "Video-Streaming     9748\n",
       "Email               6143\n",
       "VOIP                3566\n",
       "Name: application, dtype: int64"
      ]
     },
     "execution_count": 107,
     "metadata": {},
     "output_type": "execute_result"
    }
   ],
   "source": [
    "data['application'].value_counts()"
   ]
  },
  {
   "cell_type": "code",
   "execution_count": 108,
   "id": "d7f23e2c-0fd9-4684-9979-eb04cd3c5e32",
   "metadata": {},
   "outputs": [
    {
     "data": {
      "image/png": "[encoded data removed]",
      "text/plain": [
       "<Figure size 1080x432 with 1 Axes>"
      ]
     },
     "metadata": {
      "needs_background": "light"
     },
     "output_type": "display_data"
    }
   ],
   "source": [
    "plt.figure(figsize=(15,6))\n",
    "sns.countplot(data['application'], data=data,\n",
    "              palette='hls')\n",
    "plt.xticks(rotation=90)\n",
    "plt.show()"
   ]
  },
  {
   "cell_type": "code",
   "execution_count": 109,
   "id": "cead9ade-5a2b-4190-a005-d5fcaa2a7acb",
   "metadata": {},
   "outputs": [
    {
     "data": {
      "image/png": "[encoded data removed]",
      "text/plain": [
       "<Figure size 2160x1440 with 1 Axes>"
      ]
     },
     "metadata": {},
     "output_type": "display_data"
    }
   ],
   "source": [
    "label_data=data['application'].value_counts()\n",
    "explode=(0.0,0.0,0.0,0.0,0.0,0.0,0.0,0.0,0.0,0.0,0.0)\n",
    "plt.figure(figsize=(30,20))\n",
    "patches, texts, pts= plt.pie(label_data,\n",
    "                               labels=label_data.index,\n",
    "                               autopct='%1.1f%%',\n",
    "                               textprops={'fontsize':25,\n",
    "                                          'color':'black',\n",
    "                                          'family':'serif'})\n",
    "#plt.setp(pcts, color='black')\n",
    "hfont={'fontname':'serif', 'weight':'bold'}\n",
    "plt.title('applications', size=20, **hfont)\n",
    "centre_circle=plt.Circle((0,0),0.40, fc='white')\n",
    "fig = plt.gcf()\n",
    "fig.gca().add_artist(centre_circle)\n",
    "plt.show()"
   ]
  },
  {
   "cell_type": "markdown",
   "id": "ef299b20-c923-4b2f-abff-d53dda0b1106",
   "metadata": {},
   "source": [
    "### inference\n",
    "There is no balancing in the data.Thus the data should be balanced.But first it is needed to preform feature selection then Data balancing"
   ]
  },
  {
   "cell_type": "markdown",
   "id": "df271106-7d1a-4631-a5ca-a98960582996",
   "metadata": {},
   "source": [
    "## Recap \n",
    "* There is a huge imbalance concenring the two labels\n",
    "* The data should be balanced"
   ]
  },
  {
   "cell_type": "markdown",
   "id": "c9399c16-6e89-4e98-9add-d3241d93d082",
   "metadata": {},
   "source": [
    "## Label encoding"
   ]
  },
  {
   "cell_type": "code",
   "execution_count": 110,
   "id": "38f3dfc3-a5ac-4483-8c61-c4a06533fb30",
   "metadata": {},
   "outputs": [],
   "source": [
    "from sklearn import preprocessing\n",
    "label_encoder = preprocessing.LabelEncoder()\n",
    "data['traffic'] = label_encoder.fit_transform(data['traffic'])\n",
    "data['application'] = label_encoder.fit_transform(data['application'])"
   ]
  },
  {
   "cell_type": "code",
   "execution_count": 111,
   "id": "d9e62cd8-f808-4f6d-a53d-a6486bf2e709",
   "metadata": {},
   "outputs": [
    {
     "data": {
      "text/plain": [
       "array([0, 1, 2, 3])"
      ]
     },
     "execution_count": 111,
     "metadata": {},
     "output_type": "execute_result"
    }
   ],
   "source": [
    "data['traffic'].unique()"
   ]
  },
  {
   "cell_type": "code",
   "execution_count": 112,
   "id": "74273ef2-f748-4502-b218-776c83bd9486",
   "metadata": {},
   "outputs": [
    {
     "data": {
      "text/plain": [
       "array([0, 1, 2, 3, 4, 5, 7, 6])"
      ]
     },
     "execution_count": 112,
     "metadata": {},
     "output_type": "execute_result"
    }
   ],
   "source": [
    "data['application'].unique()"
   ]
  },
  {
   "cell_type": "code",
   "execution_count": 113,
   "id": "421c7393-5f41-4d6c-a5b9-d4e9488d6de0",
   "metadata": {},
   "outputs": [],
   "source": [
    "# IP adresses numeric encoding\n",
    "def IPtoNumeric(ip):\n",
    "    packed_ip = socket.inet_aton(ip)\n",
    "    ip_int = struct.unpack('!L', packed_ip)[0]\n",
    "    return ip_int"
   ]
  },
  {
   "cell_type": "code",
   "execution_count": 114,
   "id": "817abd91-df56-46f4-92cc-795a7bfee327",
   "metadata": {},
   "outputs": [],
   "source": [
    "srcIP = data[\"Src IP\"]\n",
    "numericSrcIP = srcIP.map(IPtoNumeric)\n",
    "dstIP = data['Dst IP']\n",
    "numericDstIP = dstIP.map(IPtoNumeric)"
   ]
  },
  {
   "cell_type": "code",
   "execution_count": 115,
   "id": "dee07bc8-5057-421a-b99b-4477ee021a54",
   "metadata": {},
   "outputs": [],
   "source": [
    "data[\"Src IP\"] = numericSrcIP\n",
    "data[\"Dst IP\"] = numericDstIP"
   ]
  },
  {
   "cell_type": "code",
   "execution_count": 116,
   "id": "7ec1724e-6994-4b52-9586-8fa169f14ef0",
   "metadata": {},
   "outputs": [
    {
     "data": {
      "text/html": [
       "<div>\n",
       "<style scoped>\n",
       "    .dataframe tbody tr th:only-of-type {\n",
       "        vertical-align: middle;\n",
       "    }\n",
       "\n",
       "    .dataframe tbody tr th {\n",
       "        vertical-align: top;\n",
       "    }\n",
       "\n",
       "    .dataframe thead th {\n",
       "        text-align: right;\n",
       "    }\n",
       "</style>\n",
       "<table border=\"1\" class=\"dataframe\">\n",
       "  <thead>\n",
       "    <tr style=\"text-align: right;\">\n",
       "      <th></th>\n",
       "      <th>Flow ID</th>\n",
       "      <th>Src IP</th>\n",
       "      <th>Src Port</th>\n",
       "      <th>Dst IP</th>\n",
       "      <th>Dst Port</th>\n",
       "      <th>Protocol</th>\n",
       "      <th>Timestamp</th>\n",
       "      <th>Flow Duration</th>\n",
       "      <th>Total Fwd Packet</th>\n",
       "      <th>Total Bwd packets</th>\n",
       "      <th>...</th>\n",
       "      <th>Active Mean</th>\n",
       "      <th>Active Std</th>\n",
       "      <th>Active Max</th>\n",
       "      <th>Active Min</th>\n",
       "      <th>Idle Mean</th>\n",
       "      <th>Idle Std</th>\n",
       "      <th>Idle Max</th>\n",
       "      <th>Idle Min</th>\n",
       "      <th>traffic</th>\n",
       "      <th>application</th>\n",
       "    </tr>\n",
       "  </thead>\n",
       "  <tbody>\n",
       "    <tr>\n",
       "      <th>0</th>\n",
       "      <td>10.152.152.11-216.58.220.99-57158-443-6</td>\n",
       "      <td>177772555</td>\n",
       "      <td>57158</td>\n",
       "      <td>3627736163</td>\n",
       "      <td>443</td>\n",
       "      <td>6</td>\n",
       "      <td>24/07/2015 04:09:48 PM</td>\n",
       "      <td>229</td>\n",
       "      <td>1</td>\n",
       "      <td>1</td>\n",
       "      <td>...</td>\n",
       "      <td>0</td>\n",
       "      <td>0</td>\n",
       "      <td>0</td>\n",
       "      <td>0</td>\n",
       "      <td>0.000000e+00</td>\n",
       "      <td>0.000</td>\n",
       "      <td>0.000000e+00</td>\n",
       "      <td>0.000000e+00</td>\n",
       "      <td>0</td>\n",
       "      <td>0</td>\n",
       "    </tr>\n",
       "    <tr>\n",
       "      <th>1</th>\n",
       "      <td>10.152.152.11-216.58.220.99-57159-443-6</td>\n",
       "      <td>177772555</td>\n",
       "      <td>57159</td>\n",
       "      <td>3627736163</td>\n",
       "      <td>443</td>\n",
       "      <td>6</td>\n",
       "      <td>24/07/2015 04:09:48 PM</td>\n",
       "      <td>407</td>\n",
       "      <td>1</td>\n",
       "      <td>1</td>\n",
       "      <td>...</td>\n",
       "      <td>0</td>\n",
       "      <td>0</td>\n",
       "      <td>0</td>\n",
       "      <td>0</td>\n",
       "      <td>0.000000e+00</td>\n",
       "      <td>0.000</td>\n",
       "      <td>0.000000e+00</td>\n",
       "      <td>0.000000e+00</td>\n",
       "      <td>0</td>\n",
       "      <td>0</td>\n",
       "    </tr>\n",
       "    <tr>\n",
       "      <th>2</th>\n",
       "      <td>10.152.152.11-216.58.220.99-57160-443-6</td>\n",
       "      <td>177772555</td>\n",
       "      <td>57160</td>\n",
       "      <td>3627736163</td>\n",
       "      <td>443</td>\n",
       "      <td>6</td>\n",
       "      <td>24/07/2015 04:09:48 PM</td>\n",
       "      <td>431</td>\n",
       "      <td>1</td>\n",
       "      <td>1</td>\n",
       "      <td>...</td>\n",
       "      <td>0</td>\n",
       "      <td>0</td>\n",
       "      <td>0</td>\n",
       "      <td>0</td>\n",
       "      <td>0.000000e+00</td>\n",
       "      <td>0.000</td>\n",
       "      <td>0.000000e+00</td>\n",
       "      <td>0.000000e+00</td>\n",
       "      <td>0</td>\n",
       "      <td>0</td>\n",
       "    </tr>\n",
       "    <tr>\n",
       "      <th>3</th>\n",
       "      <td>10.152.152.11-74.125.136.120-49134-443-6</td>\n",
       "      <td>177772555</td>\n",
       "      <td>49134</td>\n",
       "      <td>1249740920</td>\n",
       "      <td>443</td>\n",
       "      <td>6</td>\n",
       "      <td>24/07/2015 04:09:48 PM</td>\n",
       "      <td>359</td>\n",
       "      <td>1</td>\n",
       "      <td>1</td>\n",
       "      <td>...</td>\n",
       "      <td>0</td>\n",
       "      <td>0</td>\n",
       "      <td>0</td>\n",
       "      <td>0</td>\n",
       "      <td>0.000000e+00</td>\n",
       "      <td>0.000</td>\n",
       "      <td>0.000000e+00</td>\n",
       "      <td>0.000000e+00</td>\n",
       "      <td>0</td>\n",
       "      <td>0</td>\n",
       "    </tr>\n",
       "    <tr>\n",
       "      <th>4</th>\n",
       "      <td>10.152.152.11-173.194.65.127-34697-19305-6</td>\n",
       "      <td>177772555</td>\n",
       "      <td>34697</td>\n",
       "      <td>2915189119</td>\n",
       "      <td>19305</td>\n",
       "      <td>6</td>\n",
       "      <td>24/07/2015 04:09:45 PM</td>\n",
       "      <td>10778451</td>\n",
       "      <td>591</td>\n",
       "      <td>400</td>\n",
       "      <td>...</td>\n",
       "      <td>0</td>\n",
       "      <td>0</td>\n",
       "      <td>0</td>\n",
       "      <td>0</td>\n",
       "      <td>1.437760e+15</td>\n",
       "      <td>3117718.131</td>\n",
       "      <td>1.437760e+15</td>\n",
       "      <td>1.437760e+15</td>\n",
       "      <td>0</td>\n",
       "      <td>0</td>\n",
       "    </tr>\n",
       "  </tbody>\n",
       "</table>\n",
       "<p>5 rows × 85 columns</p>\n",
       "</div>"
      ],
      "text/plain": [
       "                                      Flow ID     Src IP  Src Port  \\\n",
       "0     10.152.152.11-216.58.220.99-57158-443-6  177772555     57158   \n",
       "1     10.152.152.11-216.58.220.99-57159-443-6  177772555     57159   \n",
       "2     10.152.152.11-216.58.220.99-57160-443-6  177772555     57160   \n",
       "3    10.152.152.11-74.125.136.120-49134-443-6  177772555     49134   \n",
       "4  10.152.152.11-173.194.65.127-34697-19305-6  177772555     34697   \n",
       "\n",
       "       Dst IP  Dst Port  Protocol               Timestamp  Flow Duration  \\\n",
       "0  3627736163       443         6  24/07/2015 04:09:48 PM            229   \n",
       "1  3627736163       443         6  24/07/2015 04:09:48 PM            407   \n",
       "2  3627736163       443         6  24/07/2015 04:09:48 PM            431   \n",
       "3  1249740920       443         6  24/07/2015 04:09:48 PM            359   \n",
       "4  2915189119     19305         6  24/07/2015 04:09:45 PM       10778451   \n",
       "\n",
       "   Total Fwd Packet  Total Bwd packets  ...  Active Mean  Active Std  \\\n",
       "0                 1                  1  ...            0           0   \n",
       "1                 1                  1  ...            0           0   \n",
       "2                 1                  1  ...            0           0   \n",
       "3                 1                  1  ...            0           0   \n",
       "4               591                400  ...            0           0   \n",
       "\n",
       "   Active Max  Active Min     Idle Mean     Idle Std      Idle Max  \\\n",
       "0           0           0  0.000000e+00        0.000  0.000000e+00   \n",
       "1           0           0  0.000000e+00        0.000  0.000000e+00   \n",
       "2           0           0  0.000000e+00        0.000  0.000000e+00   \n",
       "3           0           0  0.000000e+00        0.000  0.000000e+00   \n",
       "4           0           0  1.437760e+15  3117718.131  1.437760e+15   \n",
       "\n",
       "       Idle Min  traffic  application  \n",
       "0  0.000000e+00        0            0  \n",
       "1  0.000000e+00        0            0  \n",
       "2  0.000000e+00        0            0  \n",
       "3  0.000000e+00        0            0  \n",
       "4  1.437760e+15        0            0  \n",
       "\n",
       "[5 rows x 85 columns]"
      ]
     },
     "execution_count": 116,
     "metadata": {},
     "output_type": "execute_result"
    }
   ],
   "source": [
    "data.head()"
   ]
  },
  {
   "cell_type": "markdown",
   "id": "1e6cebd1-ac17-4e6c-b528-8475483327b4",
   "metadata": {},
   "source": [
    "## Spliting the data"
   ]
  },
  {
   "cell_type": "code",
   "execution_count": 117,
   "id": "56b1e347-dfd5-4aea-bf0b-6d45b99f3fc3",
   "metadata": {},
   "outputs": [],
   "source": [
    "# Here we need to split data for the two labels\n",
    "input_data = data.drop(['traffic','application'], axis=1)\n",
    "traffic_label = data['traffic']\n",
    "application_label = data['application']\n",
    "# Split data for the traffic label\n",
    "Xtrain_traffic, Xtest_traffic, ytrain_traffic, ytest_traffic = train_test_split(\n",
    "  input_data,traffic_label , random_state=104,test_size=0.25, shuffle=True)\n",
    "\n",
    "# Split data for the application label\n",
    "Xtrain_application, Xtest_application, ytrain_application, ytest_application = train_test_split(\n",
    "  input_data,application_label , random_state=104,test_size=0.25, shuffle=True)"
   ]
  },
  {
   "cell_type": "code",
   "execution_count": null,
   "id": "2eb1810b-b3c8-43b8-9c8a-533a66c472bd",
   "metadata": {},
   "outputs": [],
   "source": []
  }
 ],
 "metadata": {
  "kernelspec": {
   "display_name": "Python 3 (ipykernel)",
   "language": "python",
   "name": "python3"
  },
  "language_info": {
   "codemirror_mode": {
    "name": "ipython",
    "version": 3
   },
   "file_extension": ".py",
   "mimetype": "text/x-python",
   "name": "python",
   "nbconvert_exporter": "python",
   "pygments_lexer": "ipython3",
   "version": "3.10.6"
  }
 },
 "nbformat": 4,
 "nbformat_minor": 5
}
